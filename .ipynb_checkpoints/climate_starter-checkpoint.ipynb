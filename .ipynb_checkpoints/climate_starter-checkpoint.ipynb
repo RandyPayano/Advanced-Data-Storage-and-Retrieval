{
 "cells": [
  {
   "cell_type": "code",
   "execution_count": 1,
   "metadata": {},
   "outputs": [],
   "source": [
    "%matplotlib inline\n",
    "from matplotlib import style\n",
    "style.use('fivethirtyeight')\n",
    "import matplotlib.pyplot as plt\n"
   ]
  },
  {
   "cell_type": "code",
   "execution_count": 2,
   "metadata": {},
   "outputs": [],
   "source": [
    "import numpy as np\n",
    "import pandas as pd"
   ]
  },
  {
   "cell_type": "code",
   "execution_count": 3,
   "metadata": {},
   "outputs": [],
   "source": [
    "import datetime as dt"
   ]
  },
  {
   "cell_type": "markdown",
   "metadata": {},
   "source": [
    "# Reflect Tables into SQLAlchemy ORM"
   ]
  },
  {
   "cell_type": "code",
   "execution_count": 4,
   "metadata": {},
   "outputs": [],
   "source": [
    "# Python SQL toolkit and Object Relational Mapper\n",
    "import sqlalchemy\n",
    "from sqlalchemy.ext.automap import automap_base\n",
    "from sqlalchemy.orm import Session\n",
    "from sqlalchemy import create_engine, func\n"
   ]
  },
  {
   "cell_type": "code",
   "execution_count": 5,
   "metadata": {},
   "outputs": [],
   "source": [
    "engine = create_engine(\"sqlite:///Resources/hawaii.sqlite\")"
   ]
  },
  {
   "cell_type": "code",
   "execution_count": 6,
   "metadata": {},
   "outputs": [],
   "source": [
    "# reflect an existing database into a new model\n",
    "Base = automap_base()\n",
    "# reflect the tables\n",
    "Base.prepare(engine, reflect=True)"
   ]
  },
  {
   "cell_type": "code",
   "execution_count": 7,
   "metadata": {},
   "outputs": [
    {
     "data": {
      "text/plain": [
       "['measurement', 'station']"
      ]
     },
     "execution_count": 7,
     "metadata": {},
     "output_type": "execute_result"
    }
   ],
   "source": [
    "# We can view all of the classes that automap found\n",
    "Base.classes.keys()"
   ]
  },
  {
   "cell_type": "code",
   "execution_count": 8,
   "metadata": {},
   "outputs": [],
   "source": [
    "# Save references to each table\n",
    "Measurement = Base.classes.measurement\n",
    "Station = Base.classes.station"
   ]
  },
  {
   "cell_type": "code",
   "execution_count": 9,
   "metadata": {},
   "outputs": [],
   "source": [
    "# Create our session (link) from Python to the DB\n",
    "session = Session(engine)"
   ]
  },
  {
   "cell_type": "markdown",
   "metadata": {},
   "source": [
    "# Exploratory Climate Analysis"
   ]
  },
  {
   "cell_type": "code",
   "execution_count": 254,
   "metadata": {},
   "outputs": [
    {
     "name": "stdout",
     "output_type": "stream",
     "text": [
      "            prcp\n",
      "date            \n",
      "2017-08-23  0.00\n",
      "2017-08-23  0.00\n",
      "2017-08-23  0.08\n",
      "2017-08-23  0.45\n",
      "2017-08-22  0.00\n",
      "2017-08-22  0.00\n",
      "2017-08-22  0.50\n",
      "2017-08-21  0.00\n",
      "2017-08-21  0.02\n",
      "2017-08-21   NaN\n",
      "2017-08-21  0.56\n",
      "2017-08-20  0.00\n",
      "2017-08-20  0.01\n",
      "2017-08-20   NaN\n",
      "2017-08-19  0.00\n",
      "2017-08-19  0.00\n",
      "2017-08-19   NaN\n",
      "2017-08-19  0.09\n",
      "2017-08-18  0.00\n",
      "2017-08-18  0.00\n"
     ]
    },
    {
     "data": {
      "text/html": [
       "<div>\n",
       "<style scoped>\n",
       "    .dataframe tbody tr th:only-of-type {\n",
       "        vertical-align: middle;\n",
       "    }\n",
       "\n",
       "    .dataframe tbody tr th {\n",
       "        vertical-align: top;\n",
       "    }\n",
       "\n",
       "    .dataframe thead th {\n",
       "        text-align: right;\n",
       "    }\n",
       "</style>\n",
       "<table border=\"1\" class=\"dataframe\">\n",
       "  <thead>\n",
       "    <tr style=\"text-align: right;\">\n",
       "      <th></th>\n",
       "      <th>prcp</th>\n",
       "    </tr>\n",
       "  </thead>\n",
       "  <tbody>\n",
       "    <tr>\n",
       "      <td>count</td>\n",
       "      <td>2021.000000</td>\n",
       "    </tr>\n",
       "    <tr>\n",
       "      <td>mean</td>\n",
       "      <td>0.177279</td>\n",
       "    </tr>\n",
       "    <tr>\n",
       "      <td>std</td>\n",
       "      <td>0.461190</td>\n",
       "    </tr>\n",
       "    <tr>\n",
       "      <td>min</td>\n",
       "      <td>0.000000</td>\n",
       "    </tr>\n",
       "    <tr>\n",
       "      <td>25%</td>\n",
       "      <td>0.000000</td>\n",
       "    </tr>\n",
       "    <tr>\n",
       "      <td>50%</td>\n",
       "      <td>0.020000</td>\n",
       "    </tr>\n",
       "    <tr>\n",
       "      <td>75%</td>\n",
       "      <td>0.130000</td>\n",
       "    </tr>\n",
       "    <tr>\n",
       "      <td>max</td>\n",
       "      <td>6.700000</td>\n",
       "    </tr>\n",
       "  </tbody>\n",
       "</table>\n",
       "</div>"
      ],
      "text/plain": [
       "              prcp\n",
       "count  2021.000000\n",
       "mean      0.177279\n",
       "std       0.461190\n",
       "min       0.000000\n",
       "25%       0.000000\n",
       "50%       0.020000\n",
       "75%       0.130000\n",
       "max       6.700000"
      ]
     },
     "execution_count": 254,
     "metadata": {},
     "output_type": "execute_result"
    },
    {
     "data": {
      "image/png": "[encoded data removed]",
      "text/plain": [
       "<Figure size 432x288 with 1 Axes>"
      ]
     },
     "metadata": {},
     "output_type": "display_data"
    }
   ],
   "source": [
    "\n",
    "# Precipitation Analysis\n",
    "# Date query\n",
    "latest_date = session.query(Measurement.date).\\\n",
    "order_by(Measurement.date.desc()).first()\n",
    "\n",
    "one_year_from_latest= dt.date(2017, 8, 23) - dt.timedelta(days=366)\n",
    "\n",
    "# Design a query to retrieve the last 12 months of precipitation data.\n",
    "percp_data = session.query(Measurement).\\\n",
    "filter(Measurement.date > one_year_from_latest).\\\n",
    "order_by(Measurement.date.desc()).all()\n",
    "\n",
    "# Select only the `date` and `prcp` values.\n",
    "date_perc_query = session.query(Measurement.date, Measurement.prcp).\\\n",
    "filter(Measurement.date > one_year_from_latest)\\\n",
    ".order_by(Measurement.date.desc()).all()\n",
    "\n",
    "\n",
    "# Load the query results into a Pandas DataFrame and set the index to the date column.\n",
    "date_percp_df = pd.DataFrame(date_perc_query,columns=['date','prcp'])\n",
    "date_percp_df.set_index('date', inplace=True)\n",
    "\n",
    "# Plot the data\n",
    "date_percp_plot = date_percp_df.plot(alpha=0.55)\n",
    "plt.xticks(rotation='vertical')\n",
    "plt.plot()\n",
    "\n",
    "# Use Pandas to print the summary statistics for the precipitation data.\n",
    "print(date_percp_df.head(20))\n",
    "\n",
    "date_percp_df.describe()"
   ]
  },
  {
   "cell_type": "code",
   "execution_count": 54,
   "metadata": {},
   "outputs": [
    {
     "name": "stdout",
     "output_type": "stream",
     "text": [
      "There are 9 stations available in this dataset.\n"
     ]
    }
   ],
   "source": [
    "# Design a query to show how many stations are available in this dataset?\n",
    "stations_count_query = session.query(Measurement).group_by(Measurement.station).count()\n",
    "print(f\"There are {stations_count_query} stations available in this dataset.\")"
   ]
  },
  {
   "cell_type": "code",
   "execution_count": 55,
   "metadata": {},
   "outputs": [
    {
     "name": "stdout",
     "output_type": "stream",
     "text": [
      "Station USC00519281 is the most active with: 2772.\n"
     ]
    },
    {
     "data": {
      "text/plain": [
       "[('USC00519281', 2772),\n",
       " ('USC00519397', 2724),\n",
       " ('USC00513117', 2709),\n",
       " ('USC00519523', 2669),\n",
       " ('USC00516128', 2612),\n",
       " ('USC00514830', 2202),\n",
       " ('USC00511918', 1979),\n",
       " ('USC00517948', 1372),\n",
       " ('USC00518838', 511)]"
      ]
     },
     "execution_count": 55,
     "metadata": {},
     "output_type": "execute_result"
    }
   ],
   "source": [
    "# What are the most active stations? (what stations have the most rows)? in descending order.\n",
    "\n",
    "# Query for most active stations\n",
    "station_count_query = session.query(Measurement.station, func.count(Measurement.station)).\\\n",
    "group_by(Measurement.station).order_by(func.count(Measurement.station).desc()).all()\n",
    "\n",
    "# Which station has the highest number of observations?\n",
    "most_active_station = station_count_query[0][0]\n",
    "print(f\"Station {most_active_station} is the most active with: {station_count_query[0][1]}.\")\n",
    "\n",
    "# Print most active stations\n",
    "station_count_query"
   ]
  },
  {
   "cell_type": "code",
   "execution_count": 237,
   "metadata": {},
   "outputs": [
    {
     "name": "stdout",
     "output_type": "stream",
     "text": [
      "Station ID: USC00519281\n",
      "Lowest temperature recorded: 54.0\n",
      "Highest temperature recorded: 71.66378066378067\n",
      "Average temperature recorded: 85.0\n"
     ]
    }
   ],
   "source": [
    "# Using the station id from the previous query, calculate the lowest temperature recorded\n",
    "# highest temperature recorded, and average temperature most active station?\n",
    "\n",
    "# Most active station's statistics Query\n",
    "most_active_stats =session.query(Measurement.station,func.min(Measurement.tobs), func.avg(Measurement.tobs), func.max(Measurement.tobs)).\\\n",
    "    filter(Measurement.station == most_active_station).\\\n",
    "    order_by(Measurement.date).all()\n",
    "\n",
    "print(f\"Station ID: {most_active_stats[0][0]}\")\n",
    "print(f\"Lowest temperature recorded: {most_active_stats[0][1]}\")\n",
    "print(f\"Highest temperature recorded: {most_active_stats[0][2]}\")\n",
    "print(f\"Average temperature recorded: {most_active_stats[0][3]}\")"
   ]
  },
  {
   "cell_type": "code",
   "execution_count": 253,
   "metadata": {},
   "outputs": [
    {
     "name": "stdout",
     "output_type": "stream",
     "text": [
      "            tobs\n",
      "date            \n",
      "2017-08-18  79.0\n",
      "2017-08-17  76.0\n",
      "2017-08-16  76.0\n",
      "2017-08-15  77.0\n",
      "2017-08-14  77.0\n",
      "2017-08-13  77.0\n",
      "2017-08-06  83.0\n",
      "2017-08-05  82.0\n",
      "2017-08-04  77.0\n",
      "2017-07-31  76.0\n",
      "2017-07-30  81.0\n",
      "2017-07-29  82.0\n",
      "2017-07-28  81.0\n",
      "2017-07-27  76.0\n",
      "2017-07-26  75.0\n",
      "2017-07-25  77.0\n",
      "2017-07-24  75.0\n",
      "2017-07-23  82.0\n",
      "2017-07-22  77.0\n",
      "2017-07-21  77.0\n"
     ]
    },
    {
     "data": {
      "image/png": "[encoded data removed]",
      "text/plain": [
       "<Figure size 432x288 with 1 Axes>"
      ]
     },
     "metadata": {},
     "output_type": "display_data"
    }
   ],
   "source": [
    "# Choose the station with the highest number of temperature observations.\n",
    "session.query(Measurement.station, Measurement.tobs).count()\n",
    "# Query the last 12 months of temperature observation data for this station and plot the results as a histogram\n",
    "mostactive_oneyear_query= session.query(Measurement.date, Measurement.tobs).\\\n",
    "    filter(Measurement.station == most_active_station).\\\n",
    "    filter(Measurement.date > one_year_from_latest).\\\n",
    "    order_by(Measurement.date.desc()).all()\n",
    "\n",
    "# Load the query results into a Pandas DataFrame and set the index to the date column.\n",
    "mostactive_oneyear_df = pd.DataFrame(mostactive_oneyear_query,columns=['date', 'tobs']).sort_values(\"date\", ascending=False)\n",
    "mostactive_oneyear_df.set_index('date', inplace=True)\n",
    "\n",
    "# Plot the data\n",
    "mostactive_oneyear_hist = plt.hist(mostactive_oneyear_df['tobs'],bins=12)\n",
    "plt.title(f\"Temperature observation Station: {most_active_station}\")\n",
    "plt.ylabel(\"Frequency\")\n",
    "plt.legend(['tobs'])\n",
    "\n",
    "\n",
    "\n",
    "print(mostactive_oneyear_df.head(20))\n",
    "plt.show()\n"
   ]
  },
  {
   "cell_type": "code",
   "execution_count": 221,
   "metadata": {},
   "outputs": [
    {
     "name": "stdout",
     "output_type": "stream",
     "text": [
      "[(62.0, 69.57142857142857, 74.0)]\n"
     ]
    }
   ],
   "source": [
    "# This function called `calc_temps` will accept start date and end date in the format '%Y-%m-%d' \n",
    "# and return the minimum, average, and maximum temperatures for that range of dates\n",
    "def calc_temps(start_date, end_date):\n",
    "    \"\"\"TMIN, TAVG, and TMAX for a list of dates.\n",
    "    \n",
    "    Args:\n",
    "        start_date (string): A date string in the format %Y-%m-%d\n",
    "        end_date (string): A date string in the format %Y-%m-%d\n",
    "        \n",
    "    Returns:\n",
    "        TMIN, TAVE, and TMAX\n",
    "    \"\"\"\n",
    "    \n",
    "    return session.query(func.min(Measurement.tobs), func.avg(Measurement.tobs), func.max(Measurement.tobs)).\\\n",
    "        filter(Measurement.date >= start_date).filter(Measurement.date <= end_date).all()\n",
    "   \n",
    "\n",
    "# function usage example\n",
    "print(calc_temps('2012-02-28', '2012-03-05'))"
   ]
  },
  {
   "cell_type": "code",
   "execution_count": 276,
   "metadata": {},
   "outputs": [
    {
     "data": {
      "text/html": [
       "<div>\n",
       "<style scoped>\n",
       "    .dataframe tbody tr th:only-of-type {\n",
       "        vertical-align: middle;\n",
       "    }\n",
       "\n",
       "    .dataframe tbody tr th {\n",
       "        vertical-align: top;\n",
       "    }\n",
       "\n",
       "    .dataframe thead th {\n",
       "        text-align: right;\n",
       "    }\n",
       "</style>\n",
       "<table border=\"1\" class=\"dataframe\">\n",
       "  <thead>\n",
       "    <tr style=\"text-align: right;\">\n",
       "      <th></th>\n",
       "      <th>Min Temp</th>\n",
       "      <th>Max Temp</th>\n",
       "      <th>Avg Temp</th>\n",
       "    </tr>\n",
       "  </thead>\n",
       "  <tbody>\n",
       "    <tr>\n",
       "      <td>0</td>\n",
       "      <td>59.0</td>\n",
       "      <td>74.143658</td>\n",
       "      <td>84.0</td>\n",
       "    </tr>\n",
       "  </tbody>\n",
       "</table>\n",
       "</div>"
      ],
      "text/plain": [
       "   Min Temp   Max Temp  Avg Temp\n",
       "0      59.0  74.143658      84.0"
      ]
     },
     "execution_count": 276,
     "metadata": {},
     "output_type": "execute_result"
    }
   ],
   "source": [
    "# Use your previous function `calc_temps` to calculate the tmin, tavg, and tmax \n",
    "# for your trip using the previous year's data for those same dates.\n",
    "\n",
    "trip_return = dt.date(2017, 2, 28)\n",
    "trip_departs = trip_return - dt.timedelta(days=366)\n",
    "\n",
    "trip_average = calc_temps((trip_departs), (trip_return ))\n",
    "\n",
    "trip_average = pd.DataFrame(trip_average,columns=['Min Temp', 'Max Temp','Avg Temp'])\n",
    "\n",
    "trip_average"
   ]
  },
  {
   "cell_type": "code",
   "execution_count": 286,
   "metadata": {},
   "outputs": [
    {
     "data": {
      "image/png": "[encoded data removed]",
      "text/plain": [
       "<Figure size 432x576 with 1 Axes>"
      ]
     },
     "metadata": {},
     "output_type": "display_data"
    }
   ],
   "source": [
    "# Plot the results from your previous query as a bar chart. \n",
    "# Use \"Trip Avg Temp\" as your Title\n",
    "# Use the average temperature for the y value\n",
    "# Use the peak-to-peak (tmax-tmin) value as the y error bar (yerr)\n",
    "\n",
    "\n",
    "# plotting the data \n",
    "\n",
    "\n",
    "min_max_temp = trip_average.iloc[0]['Max Temp'] - trip_average.iloc[0]['Min Temp']\n",
    "\n",
    "maxx = trip_average.iloc[0]['Max Temp']\n",
    "avgg = trip_average.iloc[0]['Avg Temp']\n",
    "\n",
    "trip_average['Avg Temp'].plot(kind='bar', yerr=min_max_temp, figsize=(6,8), alpha=0.5)\n",
    "plt.title(\"Trip Avg Temp\", fontsize=14)\n",
    "plt.ylabel(\"Temp (F)\")\n",
    "plt.xticks([])\n",
    "plt.grid()\n",
    "\n",
    "plt.show()\n"
   ]
  },
  {
   "cell_type": "code",
   "execution_count": 304,
   "metadata": {},
   "outputs": [
    {
     "data": {
      "text/html": [
       "<div>\n",
       "<style scoped>\n",
       "    .dataframe tbody tr th:only-of-type {\n",
       "        vertical-align: middle;\n",
       "    }\n",
       "\n",
       "    .dataframe tbody tr th {\n",
       "        vertical-align: top;\n",
       "    }\n",
       "\n",
       "    .dataframe thead th {\n",
       "        text-align: right;\n",
       "    }\n",
       "</style>\n",
       "<table border=\"1\" class=\"dataframe\">\n",
       "  <thead>\n",
       "    <tr style=\"text-align: right;\">\n",
       "      <th></th>\n",
       "      <th>station</th>\n",
       "      <th>date</th>\n",
       "      <th>prcp</th>\n",
       "      <th>tobs</th>\n",
       "      <th>name</th>\n",
       "      <th>latitude</th>\n",
       "      <th>longitude</th>\n",
       "      <th>elevation</th>\n",
       "    </tr>\n",
       "  </thead>\n",
       "  <tbody>\n",
       "    <tr>\n",
       "      <td>0</td>\n",
       "      <td>USC00519281</td>\n",
       "      <td>2016-07-25</td>\n",
       "      <td>9.64</td>\n",
       "      <td>78.0</td>\n",
       "      <td>WAIKIKI 717.2, HI US</td>\n",
       "      <td>21.27160</td>\n",
       "      <td>-157.81680</td>\n",
       "      <td>3.0</td>\n",
       "    </tr>\n",
       "    <tr>\n",
       "      <td>1</td>\n",
       "      <td>USC00519281</td>\n",
       "      <td>2016-07-25</td>\n",
       "      <td>9.64</td>\n",
       "      <td>78.0</td>\n",
       "      <td>KANEOHE 838.1, HI US</td>\n",
       "      <td>21.42340</td>\n",
       "      <td>-157.80150</td>\n",
       "      <td>14.6</td>\n",
       "    </tr>\n",
       "    <tr>\n",
       "      <td>2</td>\n",
       "      <td>USC00519281</td>\n",
       "      <td>2016-07-25</td>\n",
       "      <td>9.64</td>\n",
       "      <td>78.0</td>\n",
       "      <td>KUALOA RANCH HEADQUARTERS 886.9, HI US</td>\n",
       "      <td>21.52130</td>\n",
       "      <td>-157.83740</td>\n",
       "      <td>7.0</td>\n",
       "    </tr>\n",
       "    <tr>\n",
       "      <td>3</td>\n",
       "      <td>USC00519281</td>\n",
       "      <td>2016-07-25</td>\n",
       "      <td>9.64</td>\n",
       "      <td>78.0</td>\n",
       "      <td>PEARL CITY, HI US</td>\n",
       "      <td>21.39340</td>\n",
       "      <td>-157.97510</td>\n",
       "      <td>11.9</td>\n",
       "    </tr>\n",
       "    <tr>\n",
       "      <td>4</td>\n",
       "      <td>USC00519281</td>\n",
       "      <td>2016-07-25</td>\n",
       "      <td>9.64</td>\n",
       "      <td>78.0</td>\n",
       "      <td>UPPER WAHIAWA 874.3, HI US</td>\n",
       "      <td>21.49920</td>\n",
       "      <td>-158.01110</td>\n",
       "      <td>306.6</td>\n",
       "    </tr>\n",
       "    <tr>\n",
       "      <td>...</td>\n",
       "      <td>...</td>\n",
       "      <td>...</td>\n",
       "      <td>...</td>\n",
       "      <td>...</td>\n",
       "      <td>...</td>\n",
       "      <td>...</td>\n",
       "      <td>...</td>\n",
       "      <td>...</td>\n",
       "    </tr>\n",
       "    <tr>\n",
       "      <td>20857</td>\n",
       "      <td>USC00516128</td>\n",
       "      <td>2017-02-18</td>\n",
       "      <td>NaN</td>\n",
       "      <td>72.0</td>\n",
       "      <td>UPPER WAHIAWA 874.3, HI US</td>\n",
       "      <td>21.49920</td>\n",
       "      <td>-158.01110</td>\n",
       "      <td>306.6</td>\n",
       "    </tr>\n",
       "    <tr>\n",
       "      <td>20858</td>\n",
       "      <td>USC00516128</td>\n",
       "      <td>2017-02-18</td>\n",
       "      <td>NaN</td>\n",
       "      <td>72.0</td>\n",
       "      <td>WAIMANALO EXPERIMENTAL FARM, HI US</td>\n",
       "      <td>21.33556</td>\n",
       "      <td>-157.71139</td>\n",
       "      <td>19.5</td>\n",
       "    </tr>\n",
       "    <tr>\n",
       "      <td>20859</td>\n",
       "      <td>USC00516128</td>\n",
       "      <td>2017-02-18</td>\n",
       "      <td>NaN</td>\n",
       "      <td>72.0</td>\n",
       "      <td>WAIHEE 837.5, HI US</td>\n",
       "      <td>21.45167</td>\n",
       "      <td>-157.84889</td>\n",
       "      <td>32.9</td>\n",
       "    </tr>\n",
       "    <tr>\n",
       "      <td>20860</td>\n",
       "      <td>USC00516128</td>\n",
       "      <td>2017-02-18</td>\n",
       "      <td>NaN</td>\n",
       "      <td>72.0</td>\n",
       "      <td>HONOLULU OBSERVATORY 702.2, HI US</td>\n",
       "      <td>21.31520</td>\n",
       "      <td>-157.99920</td>\n",
       "      <td>0.9</td>\n",
       "    </tr>\n",
       "    <tr>\n",
       "      <td>20861</td>\n",
       "      <td>USC00516128</td>\n",
       "      <td>2017-02-18</td>\n",
       "      <td>NaN</td>\n",
       "      <td>72.0</td>\n",
       "      <td>MANOA LYON ARBO 785.2, HI US</td>\n",
       "      <td>21.33310</td>\n",
       "      <td>-157.80250</td>\n",
       "      <td>152.4</td>\n",
       "    </tr>\n",
       "  </tbody>\n",
       "</table>\n",
       "<p>20862 rows × 8 columns</p>\n",
       "</div>"
      ],
      "text/plain": [
       "           station        date  prcp  tobs  \\\n",
       "0      USC00519281  2016-07-25  9.64  78.0   \n",
       "1      USC00519281  2016-07-25  9.64  78.0   \n",
       "2      USC00519281  2016-07-25  9.64  78.0   \n",
       "3      USC00519281  2016-07-25  9.64  78.0   \n",
       "4      USC00519281  2016-07-25  9.64  78.0   \n",
       "...            ...         ...   ...   ...   \n",
       "20857  USC00516128  2017-02-18   NaN  72.0   \n",
       "20858  USC00516128  2017-02-18   NaN  72.0   \n",
       "20859  USC00516128  2017-02-18   NaN  72.0   \n",
       "20860  USC00516128  2017-02-18   NaN  72.0   \n",
       "20861  USC00516128  2017-02-18   NaN  72.0   \n",
       "\n",
       "                                         name  latitude  longitude  elevation  \n",
       "0                        WAIKIKI 717.2, HI US  21.27160 -157.81680        3.0  \n",
       "1                        KANEOHE 838.1, HI US  21.42340 -157.80150       14.6  \n",
       "2      KUALOA RANCH HEADQUARTERS 886.9, HI US  21.52130 -157.83740        7.0  \n",
       "3                           PEARL CITY, HI US  21.39340 -157.97510       11.9  \n",
       "4                  UPPER WAHIAWA 874.3, HI US  21.49920 -158.01110      306.6  \n",
       "...                                       ...       ...        ...        ...  \n",
       "20857              UPPER WAHIAWA 874.3, HI US  21.49920 -158.01110      306.6  \n",
       "20858      WAIMANALO EXPERIMENTAL FARM, HI US  21.33556 -157.71139       19.5  \n",
       "20859                     WAIHEE 837.5, HI US  21.45167 -157.84889       32.9  \n",
       "20860       HONOLULU OBSERVATORY 702.2, HI US  21.31520 -157.99920        0.9  \n",
       "20861            MANOA LYON ARBO 785.2, HI US  21.33310 -157.80250      152.4  \n",
       "\n",
       "[20862 rows x 8 columns]"
      ]
     },
     "execution_count": 304,
     "metadata": {},
     "output_type": "execute_result"
    }
   ],
   "source": [
    "# Calculate the total amount of rainfall per weather station for your trip dates using the previous year's matching dates.\n",
    "\n",
    "trip_data = session.query(Measurement.station, Measurement.date, Measurement.prcp, Measurement.tobs, Station.name,Station.latitude,Station.longitude, Station.elevation).\\\n",
    "    filter(Measurement.date >= trip_departs ).\\\n",
    "    filter(Measurement.date <= trip_return).\\\n",
    "    order_by(Measurement.prcp.desc()).all()\n",
    "# Sort this in descending order by precipitation amount and list the station, name, latitude, longitude, and elevation\n",
    "\n",
    "trip_data_df = pd.DataFrame(trip_data,columns=['station', 'date','prcp', 'tobs', 'name','latitude','longitude','elevation'])\n",
    "\n",
    "trip_data_df\n"
   ]
  },
  {
   "cell_type": "markdown",
   "metadata": {},
   "source": [
    "## Optional Challenge Assignment"
   ]
  },
  {
   "cell_type": "code",
   "execution_count": null,
   "metadata": {},
   "outputs": [],
   "source": [
    "# Create a query that will calculate the daily normals \n",
    "# (i.e. the averages for tmin, tmax, and tavg for all historic data matching a specific month and day)\n",
    "\n",
    "def daily_normals(date):\n",
    "    \"\"\"Daily Normals.\n",
    "    \n",
    "    Args:\n",
    "        date (str): A date string in the format '%m-%d'\n",
    "        \n",
    "    Returns:\n",
    "        A list of tuples containing the daily normals, tmin, tavg, and tmax\n",
    "    \n",
    "    \"\"\"\n",
    "    \n",
    "    sel = [func.min(Measurement.tobs), func.avg(Measurement.tobs), func.max(Measurement.tobs)]\n",
    "    return session.query(*sel).filter(func.strftime(\"%m-%d\", Measurement.date) == date).all()\n",
    "    \n",
    "daily_normals(\"01-01\")"
   ]
  },
  {
   "cell_type": "code",
   "execution_count": null,
   "metadata": {},
   "outputs": [],
   "source": [
    "# calculate the daily normals for your trip\n",
    "# push each tuple of calculations into a list called `normals`\n",
    "\n",
    "# Set the start and end date of the trip\n",
    "\n",
    "# Use the start and end date to create a range of dates\n",
    "\n",
    "# Stip off the year and save a list of %m-%d strings\n",
    "\n",
    "# Loop through the list of %m-%d strings and calculate the normals for each date\n"
   ]
  },
  {
   "cell_type": "code",
   "execution_count": null,
   "metadata": {},
   "outputs": [],
   "source": [
    "# Load the previous query results into a Pandas DataFrame and add the `trip_dates` range as the `date` index\n"
   ]
  },
  {
   "cell_type": "code",
   "execution_count": null,
   "metadata": {},
   "outputs": [],
   "source": [
    "# Plot the daily normals as an area plot with `stacked=False`\n"
   ]
  }
 ],
 "metadata": {
  "kernel_info": {
   "name": "python3"
  },
  "kernelspec": {
   "display_name": "Python 3",
   "language": "python",
   "name": "python3"
  },
  "language_info": {
   "codemirror_mode": {
    "name": "ipython",
    "version": 3
   },
   "file_extension": ".py",
   "mimetype": "text/x-python",
   "name": "python",
   "nbconvert_exporter": "python",
   "pygments_lexer": "ipython3",
   "version": "3.6.5"
  },
  "nteract": {
   "version": "0.12.3"
  },
  "varInspector": {
   "cols": {
    "lenName": 16,
    "lenType": 16,
    "lenVar": 40
   },
   "kernels_config": {
    "python": {
     "delete_cmd_postfix": "",
     "delete_cmd_prefix": "del ",
     "library": "var_list.py",
     "varRefreshCmd": "print(var_dic_list())"
    },
    "r": {
     "delete_cmd_postfix": ") ",
     "delete_cmd_prefix": "rm(",
     "library": "var_list.r",
     "varRefreshCmd": "cat(var_dic_list()) "
    }
   },
   "types_to_exclude": [
    "module",
    "function",
    "builtin_function_or_method",
    "instance",
    "_Feature"
   ],
   "window_display": false
  }
 },
 "nbformat": 4,
 "nbformat_minor": 2
}
